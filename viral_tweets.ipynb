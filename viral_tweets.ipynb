{
 "cells": [
  {
   "cell_type": "markdown",
   "metadata": {},
   "source": [
    "# Off-Platform Project: Viral Tweets\n",
    "\n",
    "In this project, we are going to use the K-Nearest Neighbor algorithm to predict whether a tweet will go viral. Before jumping into using the classifier, let's first consider the problem we're trying to solve. Which features of a tweet are most closely linked to its popularity? Maybe the number of hashtags or the number of links in the tweet strongly influences its popularity. Maybe its virality is dependent on how many followers the person has. Maybe it's something more subtle like the specific language used in the tweets.\n",
    "\n",
    "Let's explore these options by looking at the data we have available to us. We've imported the dataset and printed the following information:\n",
    "\n",
    "* The total number of tweets in the dataset.\n",
    "* The columns, or features, of the dataset.\n",
    "* The text of the first tweet in the dataset.\n",
    "\n",
    "Some of these features are dictionaries. For example, the feature `\"user\"` is a dictionary. We might want to use some of the information found in these sub-dictionaries. Print `all_tweets.loc[0][\"user\"]` to see what the `\"user\"` feature looks like.\n",
    "\n",
    "After printing that, try printing just the `\"location\"` found in that `\"user\"` dictionary. For example, `all_tweets.loc[0][\"user\"][\"screen_name\"]` would give you only the screen name associated with the first tweet."
   ]
  },
  {
   "cell_type": "code",
   "execution_count": 15,
   "metadata": {},
   "outputs": [
    {
     "name": "stdout",
     "output_type": "stream",
     "text": [
      "11099\n",
      "Index(['created_at', 'id', 'id_str', 'text', 'truncated', 'entities',\n",
      "       'metadata', 'source', 'in_reply_to_status_id',\n",
      "       'in_reply_to_status_id_str', 'in_reply_to_user_id',\n",
      "       'in_reply_to_user_id_str', 'in_reply_to_screen_name', 'user', 'geo',\n",
      "       'coordinates', 'place', 'contributors', 'retweeted_status',\n",
      "       'is_quote_status', 'retweet_count', 'favorite_count', 'favorited',\n",
      "       'retweeted', 'lang', 'possibly_sensitive', 'quoted_status_id',\n",
      "       'quoted_status_id_str', 'extended_entities', 'quoted_status',\n",
      "       'withheld_in_countries'],\n",
      "      dtype='object')\n",
      "RT @KWWLStormTrack7: We are more than a month into summer but the days are getting shorter. The sunrise is about 25 minutes later on July 3…\n"
     ]
    },
    {
     "data": {
      "text/plain": [
       "created_at                                           2018-07-31 13:34:40+00:00\n",
       "id                                                         1024287229198446594\n",
       "id_str                                                     1024287229198446592\n",
       "text                                      @Liquidachi Oh waittttt I found it 👀\n",
       "truncated                                                                False\n",
       "entities                     {'hashtags': [], 'symbols': [], 'user_mentions...\n",
       "metadata                     {'iso_language_code': 'en', 'result_type': 're...\n",
       "source                       <a href=\"http://twitter.com/download/iphone\" r...\n",
       "in_reply_to_status_id                                              1.02429e+18\n",
       "in_reply_to_status_id_str                                          1.02429e+18\n",
       "in_reply_to_user_id                                                1.96066e+09\n",
       "in_reply_to_user_id_str                                            1.96066e+09\n",
       "in_reply_to_screen_name                                             Liquidachi\n",
       "user                         {'id': 559880125, 'id_str': '559880125', 'name...\n",
       "geo                                                                       None\n",
       "coordinates                                                               None\n",
       "place                                                                     None\n",
       "contributors                                                               NaN\n",
       "retweeted_status                                                           NaN\n",
       "is_quote_status                                                          False\n",
       "retweet_count                                                                0\n",
       "favorite_count                                                               0\n",
       "favorited                                                                False\n",
       "retweeted                                                                False\n",
       "lang                                                                        en\n",
       "possibly_sensitive                                                         NaN\n",
       "quoted_status_id                                                           NaN\n",
       "quoted_status_id_str                                                       NaN\n",
       "extended_entities                                                          NaN\n",
       "quoted_status                                                              NaN\n",
       "withheld_in_countries                                                      NaN\n",
       "Name: 25, dtype: object"
      ]
     },
     "metadata": {},
     "output_type": "display_data"
    }
   ],
   "source": [
    "import pandas as pd\n",
    "\n",
    "all_tweets = pd.read_json(\"random_tweets.json\", lines=True)\n",
    "\n",
    "print(len(all_tweets))\n",
    "print(all_tweets.columns)\n",
    "print(all_tweets.loc[0]['text'])\n",
    "\n",
    "#Print the user here and the user's location here.\n"
   ]
  },
  {
   "cell_type": "markdown",
   "metadata": {},
   "source": [
    "# Defining Viral Tweets\n",
    "\n",
    "A K-Nearest Neighbor classifier is a supervised machine learning algorithm, and as a result, we need to have a dataset with tagged labels. For this specific example, we need a dataset where every tweet is marked as viral or not viral. Unfortunately, this isn't a feature of our dataset &mdash; we'll need to make it ourselves.\n",
    "\n",
    "So how do we define a viral tweet? A good place to start is to look at the number of retweets the tweet has. This can be found using the feature `\"retweet_count\"`. Let's say we wanted to create a column called `is_viral` that is a `1` if the tweet had more than `5` retweets and `0` otherwise. We could do that like this:\n",
    "\n",
    "```py\n",
    "all_tweets['is_viral'] = np.where(all_tweets['retweet_count'] > 5, 1, 0)\n",
    "```\n",
    "\n",
    "Instead of using `5` as the benchmark for a viral tweet, let's use the median number of retweets. You can find that by calling the `median()` function on `all_tweets[\"retweet_count\"]`. Print the median number of retweets to understand what this threshold is.\n",
    "\n",
    "Print the number of viral tweets and non-viral tweets. You can do this using `all_tweets['is_viral'].value_counts()`.\n",
    "\n",
    "After finishing this project, consider coming back and playing with this threshold number. How do you think your model would work if it was trying to find incredibly viral tweets? For example, how would it work if it were looking for tweets with 1000 or more retweets?"
   ]
  },
  {
   "cell_type": "code",
   "execution_count": 36,
   "metadata": {},
   "outputs": [
    {
     "name": "stdout",
     "output_type": "stream",
     "text": [
      "2370    1\n",
      "9963    1\n",
      "6767    0\n",
      "5833    1\n",
      "9689    1\n",
      "Name: is_viral, dtype: int64\n"
     ]
    }
   ],
   "source": [
    "import numpy as np\n",
    "\n",
    "retweet_median = all_tweets['retweet_count'].median()\n",
    "all_tweets['is_viral'] = all_tweets[\"retweet_count\"].apply(lambda x: 1 if x > retweet_median else 0)\n"
   ]
  },
  {
   "cell_type": "markdown",
   "metadata": {},
   "source": [
    "# Making Features\n",
    "\n",
    "Now that we've created a label for every tweet in our dataset, we can begin thinking about which features might determine whether a tweet is viral. We can create new columns in our dataset to represent these features. For example, let's say we think the length of a tweet might be a valuable feature. The following line creates a new column containing the length of the tweet.\n",
    "\n",
    "```py\n",
    "all_tweets['tweet_length'] = all_tweets.apply(lambda tweet: len(tweet['text']), axis=1)\n",
    "```\n",
    "\n",
    "Setting `axis = 1` creates a new column rather than a new row.\n",
    "\n",
    "Create a new column called `followers_count` that contains the number of followers of each user. You can find this information in `tweet['user']['followers_count']`. Do the same for `friends_count`.\n",
    "\n",
    "For the rest of this project, we will be using these three features, but we encourage you to create your own. Here are some potential ideas for more features.\n",
    "\n",
    "* The number of hashtags in the tweet. You can find this by looking at the `text` of the tweet and using the `.count()` function with `#` as a parameter.\n",
    "* The number of links in the tweet. Using a similar strategy to the one above, use `.count()` to count the number of times `http` appears in the tweet.\n",
    "* The number of words in the tweet. Call `.split()` on the `text` of a tweet. This will give you a list of the words in the tweet. Find the length of that list.\n",
    "* The average length of the words in the tweet."
   ]
  },
  {
   "cell_type": "code",
   "execution_count": 48,
   "metadata": {},
   "outputs": [
    {
     "data": {
      "text/plain": [
       "created_at                                           2018-07-31 13:34:40+00:00\n",
       "id                                                         1024287228481167361\n",
       "id_str                                                     1024287228481167360\n",
       "text                         RT @CITES: It’s #WorldRangerDay! We lost 128 r...\n",
       "truncated                                                                False\n",
       "entities                     {'hashtags': [{'text': 'WorldRangerDay', 'indi...\n",
       "metadata                     {'iso_language_code': 'en', 'result_type': 're...\n",
       "source                       <a href=\"http://twitter.com/download/android\" ...\n",
       "in_reply_to_status_id                                                      NaN\n",
       "in_reply_to_status_id_str                                                  NaN\n",
       "in_reply_to_user_id                                                        NaN\n",
       "in_reply_to_user_id_str                                                    NaN\n",
       "in_reply_to_screen_name                                                   None\n",
       "user                         {'id': 1115506350, 'id_str': '1115506350', 'na...\n",
       "geo                                                                       None\n",
       "coordinates                                                               None\n",
       "place                                                                     None\n",
       "contributors                                                               NaN\n",
       "retweeted_status             {'created_at': 'Tue Jul 31 08:24:26 +0000 2018...\n",
       "is_quote_status                                                          False\n",
       "retweet_count                                                              436\n",
       "favorite_count                                                               0\n",
       "favorited                                                                False\n",
       "retweeted                                                                False\n",
       "lang                                                                        en\n",
       "possibly_sensitive                                                         NaN\n",
       "quoted_status_id                                                           NaN\n",
       "quoted_status_id_str                                                       NaN\n",
       "extended_entities                                                          NaN\n",
       "quoted_status                                                              NaN\n",
       "withheld_in_countries                                                      NaN\n",
       "is_viral                                                                     1\n",
       "tweet_length                                                               140\n",
       "hash_count                                                                   1\n",
       "at_count                                                                     1\n",
       "links_count                                                                  0\n",
       "word_count                                                                  27\n",
       "Name: 99, dtype: object"
      ]
     },
     "metadata": {},
     "output_type": "display_data"
    }
   ],
   "source": [
    "all_tweets['tweet_length'] = all_tweets.apply(lambda tweet: len(tweet['text']), axis=1)\n",
    "all_tweets['hash_count'] = all_tweets.text.apply(lambda x: x.count(\"#\"))\n",
    "all_tweets['at_count'] = all_tweets.text.apply(lambda x: x.count(\"@\"))\n",
    "all_tweets['links_count'] = all_tweets.text.apply(lambda x: x.count(\"http\"))\n",
    "all_tweets['word_count'] = all_tweets.text.apply(lambda x: len(x.split()))\n",
    "\n",
    "display(all_tweets.loc[99])"
   ]
  },
  {
   "cell_type": "markdown",
   "metadata": {},
   "source": [
    "# Normalizing The Data\n",
    "\n",
    "We've now made the columns that we want to feed into our classifier. Let's get rid of all the data that is no longer relevant. Create a variable named `labels` and set it equal to the `'is_viral'` column of all_tweets.\n",
    "\n",
    "If we had a dataframe named `df` we could get a single column named `A` like this:\n",
    "\n",
    "```py\n",
    "one_column = df['A']\n",
    "```\n",
    "\n",
    "Create a variable named `data` and set it equal to all of the columns that you created in the last step. Those columns are `tweet_length`, `followers_count`, and `friends_count`.\n",
    "\n",
    "When selecting multiple columns, the names of the columns should be in a list. Check out the example below to see how to select column `A` *and* `B`:\n",
    "\n",
    "```py\n",
    "features = df[['A', 'B']]\n",
    "```\n",
    "\n",
    "Now create a new variable named `scaled_data`. `scaled_data` should be the result of the `scale` function with `data` as a parameter. Also include the parameter `axis = 0`. This scales the *columns* as opposed to the rows.\n",
    "\n",
    "The scale function will normalize the data so all of the features will vary within the same range.\n",
    "\n",
    "Print `scaled_data[0]` to get a sense of what our data looks like."
   ]
  },
  {
   "cell_type": "code",
   "execution_count": 61,
   "metadata": {},
   "outputs": [
    {
     "name": "stdout",
     "output_type": "stream",
     "text": [
      "[[ 0.6164054  -0.32045057 -0.08781719 -0.78415588  1.15105133]\n",
      " [-1.64577622 -0.32045057 -0.08781719 -0.78415588 -0.7854869 ]\n",
      " [ 0.6164054  -0.32045057 -0.08781719 -0.78415588  0.44685561]\n",
      " ...\n",
      " [ 0.6164054  -0.32045057  1.97282328  1.11738358 -0.25734011]\n",
      " [ 0.6164054  -0.32045057 -0.08781719 -0.78415588  1.67919812]\n",
      " [-1.71759151 -0.32045057 -0.08781719 -0.78415588 -1.13758476]]\n"
     ]
    }
   ],
   "source": [
    "from sklearn.preprocessing import scale\n",
    "\n",
    "labels =  all_tweets[\"is_viral\"]\n",
    "data = all_tweets[['tweet_length','hash_count', 'at_count', 'links_count', 'word_count']]\n",
    "scaled_data = scale(data, axis = 0)\n",
    "print(scaled_data)"
   ]
  },
  {
   "cell_type": "markdown",
   "metadata": {},
   "source": [
    "# Creating the Training Set and Test Set\n",
    "\n",
    "To evaluate the effectiveness of our classifier, we now split `scaled_data` and `labels` into a training set and test set using scikit-learn's `train_test_split` function. This function takes two required parameters: It takes the data, followed by the labels. Set the optional parameter `test_size` to be `0.2`. You can also set the `random_state` parameter so your code will randomly split the data in the same way as our solution code splits the data. We used `random_state = 1`. Remember, this function returns 4 items in this order:\n",
    "\n",
    "1. The training data\n",
    "2. The testing data\n",
    "3. The training labels\n",
    "4. The testing labels\n",
    "\n",
    "Store the results in variables named `train_data`, `test_data`, `train_labels`, and `test_labels`."
   ]
  },
  {
   "cell_type": "code",
   "execution_count": 62,
   "metadata": {},
   "outputs": [],
   "source": [
    "from sklearn.model_selection import train_test_split\n",
    "\n",
    "train_data, test_data, train_labels, test_labels = train_test_split(scaled_data,labels, test_size = 0.2, random_state = 1)"
   ]
  },
  {
   "cell_type": "markdown",
   "metadata": {},
   "source": [
    "# Using the Classifier\n",
    "\n",
    "We can finally use the K-Nearest Neighbor classifier. Let's test it using `k = 5`. Begin by creating a `KNeighborsClassifier` object named `classifier` with the parameter `n_neighbors` equal to `5`.\n",
    "\n",
    "Next, train `classifier` by calling the `.fit()` method with `train_data` and `train_labels` as parameters.\n",
    "\n",
    "Finally, let's test the model! Call `classifier`'s `.score()` method using `test_data` and `test_labels` as parameters. Print the results.\n"
   ]
  },
  {
   "cell_type": "code",
   "execution_count": 66,
   "metadata": {},
   "outputs": [
    {
     "name": "stdout",
     "output_type": "stream",
     "text": [
      "0.7621621621621621\n"
     ]
    }
   ],
   "source": [
    "from sklearn.neighbors import KNeighborsClassifier\n",
    "classifier = KNeighborsClassifier(n_neighbors = 5)\n",
    "classifier.fit(train_data, train_labels)\n",
    "print(classifier.score(test_data,test_labels))"
   ]
  },
  {
   "cell_type": "markdown",
   "metadata": {},
   "source": [
    "# Choosing K\n",
    "\n",
    "We've tested our classifier with `k = 5`, but maybe there's a `k` that will work better. Let's test many different values for `k` and graph the results. \n",
    "\n",
    "First, create an empty list called `scores`. Next, create a for loop that has a variable `k` that begins at `1` and ends at `200`.\n",
    "\n",
    "Inside the for loop, create a `KNeighobrsClassifier` object named `classifier` with the parameter `n_neighbors` equal to `k`.\n",
    "\n",
    "Train `classifier` by calling the `.fit()` method with `train_data` and `train_labels` as parameters.\n",
    "\n",
    "Next, let's test the model! Call `classifier`'s `.score()` method using `test_data` and `test_labels` as parameters. `append` the result to `scores`.\n",
    "\n",
    "Finally, let's plot the results. Outside of the loop, use Matplotlib's `plot()` function. `plot()` takes two parameters &mdash; the data on the x-axis and the data on the y-axis. Data on the x-axis should be the values we used for `k`. In this case, `range(1,200)`.  Data on the y-axis should be `scores`. Make sure to call the `plt.show()` function after calling `plt.plot()`. This should take a couple of seconds to run!"
   ]
  },
  {
   "cell_type": "code",
   "execution_count": 65,
   "metadata": {},
   "outputs": [
    {
     "name": "stdout",
     "output_type": "stream",
     "text": [
      "[0.7436936936936936, 0.7175675675675676, 0.7567567567567568, 0.7405405405405405, 0.7621621621621621, 0.7563063063063064, 0.7684684684684685, 0.7617117117117117, 0.7693693693693694, 0.772972972972973, 0.7738738738738739, 0.7734234234234234, 0.772972972972973, 0.7684684684684685, 0.772972972972973, 0.7693693693693694, 0.7716216216216216, 0.7711711711711712, 0.7684684684684685, 0.7680180180180181, 0.7698198198198198, 0.7734234234234234, 0.7743243243243243, 0.7680180180180181, 0.7693693693693694, 0.7756756756756756, 0.7725225225225225, 0.7734234234234234, 0.7752252252252252, 0.7711711711711712, 0.7720720720720721, 0.7698198198198198, 0.7765765765765765, 0.7747747747747747, 0.7747747747747747, 0.7734234234234234, 0.7774774774774775, 0.7720720720720721, 0.777927927927928, 0.7716216216216216, 0.7738738738738739, 0.7725225225225225, 0.7756756756756756, 0.7725225225225225, 0.7707207207207207, 0.7711711711711712, 0.7747747747747747, 0.7734234234234234, 0.7734234234234234, 0.7747747747747747, 0.7734234234234234, 0.7720720720720721, 0.7747747747747747, 0.7711711711711712, 0.7711711711711712, 0.7734234234234234, 0.772972972972973, 0.7702702702702703, 0.7707207207207207, 0.7698198198198198, 0.7693693693693694, 0.7707207207207207, 0.7680180180180181, 0.7684684684684685, 0.7671171171171172, 0.7707207207207207, 0.7707207207207207, 0.7716216216216216, 0.7716216216216216, 0.7756756756756756, 0.7725225225225225, 0.7761261261261261, 0.7702702702702703, 0.7720720720720721, 0.7738738738738739, 0.7752252252252252, 0.772972972972973, 0.7752252252252252, 0.7756756756756756, 0.7761261261261261, 0.7783783783783784, 0.7765765765765765, 0.7720720720720721, 0.7743243243243243, 0.777927927927928, 0.7716216216216216, 0.7716216216216216, 0.7702702702702703, 0.7707207207207207, 0.7707207207207207, 0.768918918918919, 0.7707207207207207, 0.7707207207207207, 0.7698198198198198, 0.7693693693693694, 0.7684684684684685, 0.7707207207207207, 0.7684684684684685, 0.7671171171171172, 0.768918918918919, 0.7698198198198198, 0.768918918918919, 0.7680180180180181, 0.7702702702702703, 0.768918918918919, 0.768918918918919, 0.768918918918919, 0.768918918918919, 0.7698198198198198, 0.7702702702702703, 0.7693693693693694, 0.7693693693693694, 0.7702702702702703, 0.7698198198198198, 0.7698198198198198, 0.7707207207207207, 0.7657657657657657, 0.7693693693693694, 0.7680180180180181, 0.7698198198198198, 0.7680180180180181, 0.7698198198198198, 0.7698198198198198, 0.7720720720720721, 0.7693693693693694, 0.7725225225225225, 0.7725225225225225, 0.7702702702702703, 0.7720720720720721, 0.772972972972973, 0.7693693693693694, 0.7711711711711712, 0.768918918918919, 0.768918918918919, 0.7680180180180181, 0.7693693693693694, 0.7684684684684685, 0.7684684684684685, 0.7675675675675676, 0.768918918918919, 0.768918918918919, 0.7675675675675676, 0.7671171171171172, 0.7680180180180181, 0.7675675675675676, 0.7680180180180181, 0.7680180180180181, 0.7693693693693694, 0.7680180180180181, 0.7680180180180181, 0.7675675675675676, 0.7657657657657657, 0.7666666666666667, 0.7666666666666667, 0.7671171171171172, 0.7675675675675676, 0.768918918918919, 0.7675675675675676, 0.7702702702702703, 0.768918918918919, 0.7702702702702703, 0.7698198198198198, 0.7675675675675676, 0.768918918918919, 0.7680180180180181, 0.7693693693693694, 0.7702702702702703, 0.7684684684684685, 0.7716216216216216, 0.7716216216216216, 0.7702702702702703, 0.7707207207207207, 0.7716216216216216, 0.7702702702702703, 0.7702702702702703, 0.7698198198198198, 0.7702702702702703, 0.7707207207207207, 0.7702702702702703, 0.7684684684684685, 0.768918918918919, 0.768918918918919, 0.7671171171171172, 0.768918918918919, 0.7693693693693694, 0.768918918918919, 0.768918918918919, 0.7693693693693694, 0.7693693693693694, 0.7711711711711712, 0.7693693693693694, 0.7702702702702703, 0.7693693693693694, 0.7702702702702703, 0.7698198198198198, 0.768918918918919, 0.7684684684684685, 0.768918918918919, 0.7698198198198198]\n"
     ]
    },
    {
     "data": {
      "image/png": "[encoded data removed]",
      "text/plain": [
       "<Figure size 432x288 with 1 Axes>"
      ]
     },
     "metadata": {
      "needs_background": "light"
     },
     "output_type": "display_data"
    }
   ],
   "source": [
    "import matplotlib.pyplot as plt\n",
    "\n",
    "scores = []\n",
    "\n",
    "for k in range(1,200):\n",
    "    classifier = KNeighborsClassifier(n_neighbors = k)\n",
    "    classifier.fit(train_data, train_labels)\n",
    "    scores.append(classifier.score(test_data,test_labels))\n",
    "print(scores)\n",
    "plt.plot(range(1,200), scores)\n",
    "plt.show()\n",
    "\n",
    "\n",
    "    \n",
    "    \n",
    "    \n"
   ]
  },
  {
   "cell_type": "markdown",
   "metadata": {},
   "source": [
    "# Explore on your own\n",
    "\n",
    "Nice work! You can see the classifier gets better as `k` increases, but as `k` gets too high, underfitting starts to happen.\n",
    "\n",
    "By using the features `tweet_length`, `followers_count`, and `friends_count`, we were able to get up to around 63% accuracy. That is better than random, but still not exceptional. Can you find some different features that perform better? Share your graphs with us on Twitter and maybe it will go viral!"
   ]
  }
 ],
 "metadata": {
  "kernelspec": {
   "display_name": "Python 3",
   "language": "python",
   "name": "python3"
  },
  "language_info": {
   "codemirror_mode": {
    "name": "ipython",
    "version": 3
   },
   "file_extension": ".py",
   "mimetype": "text/x-python",
   "name": "python",
   "nbconvert_exporter": "python",
   "pygments_lexer": "ipython3",
   "version": "3.8.3"
  }
 },
 "nbformat": 4,
 "nbformat_minor": 4
}
